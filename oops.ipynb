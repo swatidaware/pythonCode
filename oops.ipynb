{
 "cells": [
  {
   "cell_type": "code",
   "execution_count": 9,
   "id": "ccc3eda7",
   "metadata": {},
   "outputs": [],
   "source": [
    "class number:\n",
    "    def sum(self):\n",
    "        return self.a + self.b    "
   ]
  },
  {
   "cell_type": "code",
   "execution_count": 10,
   "id": "e16391cc",
   "metadata": {},
   "outputs": [
    {
     "name": "stdout",
     "output_type": "stream",
     "text": [
      "56\n"
     ]
    }
   ],
   "source": [
    "num = number()\n",
    "num.a=34\n",
    "num.b=22\n",
    "s = num.sum()\n",
    "print(s)"
   ]
  },
  {
   "cell_type": "code",
   "execution_count": 25,
   "id": "04cb0778",
   "metadata": {},
   "outputs": [],
   "source": [
    "class Empolyee:\n",
    "    company =\"wiproo\"\n",
    "    salary =200"
   ]
  },
  {
   "cell_type": "code",
   "execution_count": 26,
   "id": "24e65049",
   "metadata": {},
   "outputs": [],
   "source": [
    "harry = Empolyee()\n",
    "rajni = Empolyee()\n",
    "harry.salary =33"
   ]
  },
  {
   "cell_type": "code",
   "execution_count": 27,
   "id": "0c254270",
   "metadata": {},
   "outputs": [
    {
     "name": "stdout",
     "output_type": "stream",
     "text": [
      "harry.company\n",
      "rajni.company\n",
      "youtube\n",
      "youtube\n",
      "33\n",
      "200\n"
     ]
    }
   ],
   "source": [
    "print(\"harry.company\")\n",
    "print(\"rajni.company\")\n",
    "Empolyee.company= \"youtube\"\n",
    "print(harry.company)\n",
    "print(rajni.company)\n",
    "print(harry.salary)\n",
    "print(rajni.salary)"
   ]
  },
  {
   "cell_type": "code",
   "execution_count": null,
   "id": "1096988c",
   "metadata": {},
   "outputs": [],
   "source": [
    "#INSTANCE CLASS"
   ]
  },
  {
   "cell_type": "code",
   "execution_count": 21,
   "id": "7f399854",
   "metadata": {},
   "outputs": [],
   "source": [
    "class Employee:\n",
    "    company = \"Google\"\n",
    "    salary = 100\n"
   ]
  },
  {
   "cell_type": "code",
   "execution_count": 22,
   "id": "4ab03fd4",
   "metadata": {},
   "outputs": [],
   "source": [
    "harry = Employee()\n",
    "rajni = Employee()"
   ]
  },
  {
   "cell_type": "code",
   "execution_count": 30,
   "id": "bb1719ea",
   "metadata": {},
   "outputs": [
    {
     "name": "stdout",
     "output_type": "stream",
     "text": [
      "45\n",
      "200\n"
     ]
    }
   ],
   "source": [
    "harry.salary = 45\n",
    "print(harry.salary)\n",
    "print(rajni.salary)"
   ]
  },
  {
   "cell_type": "code",
   "execution_count": null,
   "id": "bf6ab42f",
   "metadata": {},
   "outputs": [],
   "source": [
    "#self pay"
   ]
  },
  {
   "cell_type": "code",
   "execution_count": 28,
   "id": "30597384",
   "metadata": {},
   "outputs": [],
   "source": [
    "class Employee:\n",
    "    company = \"Google\"\n",
    "    def getSalary(self):\n",
    "        print(f\"Salary for this employee working in {self.company} is {self.salary}\")"
   ]
  },
  {
   "cell_type": "code",
   "execution_count": 29,
   "id": "3cedeff6",
   "metadata": {},
   "outputs": [
    {
     "name": "stdout",
     "output_type": "stream",
     "text": [
      "Salary for this employee working in Google is 100000\n"
     ]
    }
   ],
   "source": [
    "harry = Employee()\n",
    "harry.salary = 100000\n",
    "harry.getSalary() "
   ]
  },
  {
   "cell_type": "code",
   "execution_count": 44,
   "id": "ebc9bbc3",
   "metadata": {},
   "outputs": [],
   "source": [
    "#create a class programer for stroring information of few programer working and microsoft"
   ]
  },
  {
   "cell_type": "code",
   "execution_count": 45,
   "id": "66e181e3",
   "metadata": {},
   "outputs": [],
   "source": [
    "class member:\n",
    "    company = \"microsoft\"\n",
    "    salary = 200    "
   ]
  },
  {
   "cell_type": "code",
   "execution_count": 46,
   "id": "0c9ac3a3",
   "metadata": {},
   "outputs": [
    {
     "ename": "AttributeError",
     "evalue": "'Employee' object has no attribute 'member'",
     "output_type": "error",
     "traceback": [
      "\u001b[1;31m---------------------------------------------------------------------------\u001b[0m",
      "\u001b[1;31mAttributeError\u001b[0m                            Traceback (most recent call last)",
      "\u001b[1;32m<ipython-input-46-17f90db39d17>\u001b[0m in \u001b[0;36m<module>\u001b[1;34m\u001b[0m\n\u001b[1;32m----> 1\u001b[1;33m \u001b[0mharry\u001b[0m\u001b[1;33m.\u001b[0m\u001b[0mmember\u001b[0m\u001b[1;33m(\u001b[0m\u001b[1;33m)\u001b[0m\u001b[1;33m\u001b[0m\u001b[1;33m\u001b[0m\u001b[0m\n\u001b[0m\u001b[0;32m      2\u001b[0m \u001b[0mrajni\u001b[0m\u001b[1;33m.\u001b[0m\u001b[0mmember\u001b[0m\u001b[1;33m(\u001b[0m\u001b[1;33m)\u001b[0m\u001b[1;33m\u001b[0m\u001b[1;33m\u001b[0m\u001b[0m\n\u001b[0;32m      3\u001b[0m \u001b[0mswati\u001b[0m\u001b[1;33m.\u001b[0m\u001b[0mmember\u001b[0m\u001b[1;33m(\u001b[0m\u001b[1;33m)\u001b[0m\u001b[1;33m\u001b[0m\u001b[1;33m\u001b[0m\u001b[0m\n\u001b[0;32m      4\u001b[0m \u001b[0mruhi\u001b[0m\u001b[1;33m.\u001b[0m\u001b[0mmember\u001b[0m\u001b[1;33m(\u001b[0m\u001b[1;33m)\u001b[0m\u001b[1;33m\u001b[0m\u001b[1;33m\u001b[0m\u001b[0m\n\u001b[0;32m      5\u001b[0m \u001b[0mprint\u001b[0m\u001b[1;33m(\u001b[0m\u001b[0mharry\u001b[0m\u001b[1;33m.\u001b[0m\u001b[0msalary\u001b[0m\u001b[1;33m)\u001b[0m\u001b[1;33m\u001b[0m\u001b[1;33m\u001b[0m\u001b[0m\n",
      "\u001b[1;31mAttributeError\u001b[0m: 'Employee' object has no attribute 'member'"
     ]
    }
   ],
   "source": [
    "harry.member()\n",
    "rajni.member()\n",
    "swati.member()\n",
    "ruhi.member()\n",
    "print(harry.salary)\n",
    "rajni.salary = 400\n",
    "swati.salary = 700"
   ]
  },
  {
   "cell_type": "code",
   "execution_count": 41,
   "id": "f8873030",
   "metadata": {},
   "outputs": [
    {
     "ename": "NameError",
     "evalue": "name 'swati' is not defined",
     "output_type": "error",
     "traceback": [
      "\u001b[1;31m---------------------------------------------------------------------------\u001b[0m",
      "\u001b[1;31mNameError\u001b[0m                                 Traceback (most recent call last)",
      "\u001b[1;32m<ipython-input-41-f3897c5feebd>\u001b[0m in \u001b[0;36m<module>\u001b[1;34m\u001b[0m\n\u001b[0;32m      1\u001b[0m \u001b[0mharry\u001b[0m\u001b[1;33m.\u001b[0m\u001b[0msalary\u001b[0m \u001b[1;33m=\u001b[0m \u001b[1;36m500\u001b[0m\u001b[1;33m\u001b[0m\u001b[1;33m\u001b[0m\u001b[0m\n\u001b[0;32m      2\u001b[0m \u001b[0mrajni\u001b[0m\u001b[1;33m.\u001b[0m\u001b[0msalary\u001b[0m \u001b[1;33m=\u001b[0m \u001b[1;36m400\u001b[0m\u001b[1;33m\u001b[0m\u001b[1;33m\u001b[0m\u001b[0m\n\u001b[1;32m----> 3\u001b[1;33m \u001b[0mswati\u001b[0m\u001b[1;33m.\u001b[0m\u001b[0msalary\u001b[0m \u001b[1;33m=\u001b[0m \u001b[1;36m700\u001b[0m\u001b[1;33m\u001b[0m\u001b[1;33m\u001b[0m\u001b[0m\n\u001b[0m",
      "\u001b[1;31mNameError\u001b[0m: name 'swati' is not defined"
     ]
    }
   ],
   "source": [
    "harry.salary = 500\n",
    "rajni.salary = 400\n",
    "swati.salary = 700"
   ]
  },
  {
   "cell_type": "code",
   "execution_count": 42,
   "id": "5b2dbee4",
   "metadata": {},
   "outputs": [
    {
     "name": "stdout",
     "output_type": "stream",
     "text": [
      "500\n",
      "400\n"
     ]
    },
    {
     "ename": "NameError",
     "evalue": "name 'swati' is not defined",
     "output_type": "error",
     "traceback": [
      "\u001b[1;31m---------------------------------------------------------------------------\u001b[0m",
      "\u001b[1;31mNameError\u001b[0m                                 Traceback (most recent call last)",
      "\u001b[1;32m<ipython-input-42-3be1b6f37cca>\u001b[0m in \u001b[0;36m<module>\u001b[1;34m\u001b[0m\n\u001b[0;32m      1\u001b[0m \u001b[0mprint\u001b[0m\u001b[1;33m(\u001b[0m\u001b[0mharry\u001b[0m\u001b[1;33m.\u001b[0m\u001b[0msalary\u001b[0m\u001b[1;33m)\u001b[0m\u001b[1;33m\u001b[0m\u001b[1;33m\u001b[0m\u001b[0m\n\u001b[0;32m      2\u001b[0m \u001b[0mprint\u001b[0m\u001b[1;33m(\u001b[0m\u001b[0mrajni\u001b[0m\u001b[1;33m.\u001b[0m\u001b[0msalary\u001b[0m\u001b[1;33m)\u001b[0m\u001b[1;33m\u001b[0m\u001b[1;33m\u001b[0m\u001b[0m\n\u001b[1;32m----> 3\u001b[1;33m \u001b[0mprint\u001b[0m\u001b[1;33m(\u001b[0m\u001b[0mswati\u001b[0m\u001b[1;33m.\u001b[0m\u001b[0msalary\u001b[0m\u001b[1;33m)\u001b[0m\u001b[1;33m\u001b[0m\u001b[1;33m\u001b[0m\u001b[0m\n\u001b[0m",
      "\u001b[1;31mNameError\u001b[0m: name 'swati' is not defined"
     ]
    }
   ],
   "source": [
    "print(harry.salary)\n",
    "print(rajni.salary)\n",
    "print(swati.salary)"
   ]
  },
  {
   "cell_type": "code",
   "execution_count": null,
   "id": "f1e63553",
   "metadata": {},
   "outputs": [],
   "source": []
  },
  {
   "cell_type": "code",
   "execution_count": null,
   "id": "223a018c",
   "metadata": {},
   "outputs": [],
   "source": []
  },
  {
   "cell_type": "code",
   "execution_count": null,
   "id": "789364bc",
   "metadata": {},
   "outputs": [],
   "source": []
  },
  {
   "cell_type": "code",
   "execution_count": null,
   "id": "462f22fc",
   "metadata": {},
   "outputs": [],
   "source": []
  }
 ],
 "metadata": {
  "kernelspec": {
   "display_name": "Python 3",
   "language": "python",
   "name": "python3"
  },
  "language_info": {
   "codemirror_mode": {
    "name": "ipython",
    "version": 3
   },
   "file_extension": ".py",
   "mimetype": "text/x-python",
   "name": "python",
   "nbconvert_exporter": "python",
   "pygments_lexer": "ipython3",
   "version": "3.8.8"
  }
 },
 "nbformat": 4,
 "nbformat_minor": 5
}
